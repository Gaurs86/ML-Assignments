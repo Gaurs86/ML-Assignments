{
  "nbformat": 4,
  "nbformat_minor": 0,
  "metadata": {
    "colab": {
      "provenance": [],
      "authorship_tag": "ABX9TyPtAcVIDb0NvLY6rfqBzMO6",
      "include_colab_link": true
    },
    "kernelspec": {
      "name": "python3",
      "display_name": "Python 3"
    },
    "language_info": {
      "name": "python"
    }
  },
  "cells": [
    {
      "cell_type": "markdown",
      "metadata": {
        "id": "view-in-github",
        "colab_type": "text"
      },
      "source": [
        "<a href=\"https://colab.research.google.com/github/Gaurs86/ML-Assignments/blob/main/Denoising_Autoencoder.ipynb\" target=\"_parent\"><img src=\"https://colab.research.google.com/assets/colab-badge.svg\" alt=\"Open In Colab\"/></a>"
      ]
    },
    {
      "cell_type": "markdown",
      "source": [
        "#Imports"
      ],
      "metadata": {
        "id": "AJDcwGe8kpru"
      }
    },
    {
      "cell_type": "code",
      "execution_count": null,
      "metadata": {
        "id": "-O_bdhsoab8T"
      },
      "outputs": [],
      "source": [
        "import torch\n",
        "import torch.nn as nn\n",
        "import torch.optim as optim\n",
        "from torchvision import datasets, transforms\n",
        "from torch.utils.data import DataLoader, Dataset\n",
        "import matplotlib.pyplot as plt\n",
        "import numpy as np"
      ]
    },
    {
      "cell_type": "markdown",
      "source": [
        "#MNIST Dataset with Random Patch Noise"
      ],
      "metadata": {
        "id": "iwhZQHPeksiH"
      }
    },
    {
      "cell_type": "code",
      "source": [
        "class NoisyMNIST(Dataset):\n",
        "    def __init__(self, train=True):\n",
        "        self.data = datasets.MNIST(\n",
        "            root=\"./data\", train=train, download=True,\n",
        "            transform=transforms.ToTensor()\n",
        "        )\n",
        "\n",
        "    def __len__(self):\n",
        "        return len(self.data)\n",
        "\n",
        "    def __getitem__(self, idx):\n",
        "        img, _ = self.data[idx]    # (1, 28, 28)\n",
        "        clean = img.clone()\n",
        "\n",
        "        # Add noise in a random 8x8 patch\n",
        "        i = np.random.randint(0, 21)  # row index for top-left corner\n",
        "        j = np.random.randint(0, 21)  # col index for top-left corner\n",
        "        noisy = img.clone()\n",
        "        noisy[:, i:i+8, j:j+8] = torch.rand((1,8,8))\n",
        "\n",
        "        return noisy.view(-1), clean.view(-1)"
      ],
      "metadata": {
        "id": "5Eg0oUDEa-a-"
      },
      "execution_count": null,
      "outputs": []
    },
    {
      "cell_type": "markdown",
      "source": [
        "#MLP AutoEncoder"
      ],
      "metadata": {
        "id": "FdiaAt77k68D"
      }
    },
    {
      "cell_type": "code",
      "source": [
        "class DenoisingAutoencoder(nn.Module):\n",
        "    def __init__(self):\n",
        "        super().__init__()\n",
        "        self.encoder = nn.Sequential(\n",
        "            nn.Linear(784, 512), nn.ReLU(),\n",
        "            nn.Linear(512, 256), nn.ReLU(),\n",
        "            nn.Linear(256, 128), nn.ReLU()\n",
        "        )\n",
        "        self.decoder = nn.Sequential(\n",
        "            nn.Linear(128, 256), nn.ReLU(),\n",
        "            nn.Linear(256, 512), nn.ReLU(),\n",
        "            nn.Linear(512, 784), nn.Sigmoid()\n",
        "        )\n",
        "\n",
        "    def forward(self, x):\n",
        "        latent = self.encoder(x)\n",
        "        out = self.decoder(latent)\n",
        "        return out"
      ],
      "metadata": {
        "id": "oxRZiDVub4AW"
      },
      "execution_count": null,
      "outputs": []
    },
    {
      "cell_type": "markdown",
      "source": [
        "#Training MLP"
      ],
      "metadata": {
        "id": "HoilAPI7k_Ik"
      }
    },
    {
      "cell_type": "code",
      "source": [
        "device = torch.device(\"cuda\" if torch.cuda.is_available() else \"cpu\")\n",
        "\n",
        "train_data = NoisyMNIST(train=True)\n",
        "test_data  = NoisyMNIST(train=False)\n",
        "\n",
        "train_loader = DataLoader(train_data, batch_size=128, shuffle=True)\n",
        "test_loader  = DataLoader(test_data, batch_size=128, shuffle=False)\n",
        "\n",
        "model = DenoisingAutoencoder().to(device)\n",
        "criterion = nn.MSELoss()\n",
        "optimizer = optim.Adam(model.parameters(), lr=1e-3)\n",
        "\n",
        "epochs = 10\n",
        "for epoch in range(epochs):\n",
        "    model.train()\n",
        "    running_loss = 0\n",
        "    for noisy, clean in train_loader:\n",
        "        noisy, clean = noisy.to(device), clean.to(device)\n",
        "\n",
        "        optimizer.zero_grad()\n",
        "        outputs = model(noisy)\n",
        "        loss = criterion(outputs, clean)\n",
        "        loss.backward()\n",
        "        optimizer.step()\n",
        "\n",
        "        running_loss += loss.item()\n",
        "\n",
        "    print(f\"Epoch [{epoch+1}/{epochs}], Loss: {running_loss/len(train_loader):.4f}\")\n"
      ],
      "metadata": {
        "colab": {
          "base_uri": "https://localhost:8080/"
        },
        "id": "aF5CKn7lcHNB",
        "outputId": "7d0a55a8-fd33-41f8-c8a9-2e1b6b403f38"
      },
      "execution_count": null,
      "outputs": [
        {
          "output_type": "stream",
          "name": "stderr",
          "text": [
            "100%|██████████| 9.91M/9.91M [00:01<00:00, 6.05MB/s]\n",
            "100%|██████████| 28.9k/28.9k [00:00<00:00, 160kB/s]\n",
            "100%|██████████| 1.65M/1.65M [00:01<00:00, 1.52MB/s]\n",
            "100%|██████████| 4.54k/4.54k [00:00<00:00, 6.71MB/s]\n"
          ]
        },
        {
          "output_type": "stream",
          "name": "stdout",
          "text": [
            "Epoch [1/10], Loss: 0.0523\n",
            "Epoch [2/10], Loss: 0.0271\n",
            "Epoch [3/10], Loss: 0.0218\n",
            "Epoch [4/10], Loss: 0.0186\n",
            "Epoch [5/10], Loss: 0.0167\n",
            "Epoch [6/10], Loss: 0.0154\n",
            "Epoch [7/10], Loss: 0.0145\n",
            "Epoch [8/10], Loss: 0.0139\n",
            "Epoch [9/10], Loss: 0.0133\n",
            "Epoch [10/10], Loss: 0.0129\n"
          ]
        }
      ]
    },
    {
      "cell_type": "markdown",
      "source": [
        "#Visualization"
      ],
      "metadata": {
        "id": "PhnYnJdClCy8"
      }
    },
    {
      "cell_type": "code",
      "source": [
        "model.eval()\n",
        "noisy, clean = next(iter(test_loader))\n",
        "noisy, clean = noisy.to(device), clean.to(device)\n",
        "with torch.no_grad():\n",
        "    denoised = model(noisy)\n",
        "\n",
        "# Show few examples\n",
        "noisy = noisy.view(-1, 1, 28, 28).cpu()\n",
        "clean = clean.view(-1, 1, 28, 28).cpu()\n",
        "denoised = denoised.view(-1, 1, 28, 28).cpu()\n",
        "\n",
        "fig, axes = plt.subplots(3, 10, figsize=(15,5))\n",
        "for i in range(10):\n",
        "    axes[0,i].imshow(clean[i].squeeze(), cmap=\"gray\"); axes[0,i].axis(\"off\")\n",
        "    axes[1,i].imshow(noisy[i].squeeze(), cmap=\"gray\"); axes[1,i].axis(\"off\")\n",
        "    axes[2,i].imshow(denoised[i].squeeze(), cmap=\"gray\"); axes[2,i].axis(\"off\")\n",
        "axes[0,0].set_ylabel(\"Original\")\n",
        "axes[1,0].set_ylabel(\"Noisy\")\n",
        "axes[2,0].set_ylabel(\"Denoised\")\n",
        "plt.show()"
      ],
      "metadata": {
        "colab": {
          "base_uri": "https://localhost:8080/",
          "height": 407
        },
        "id": "OKBcYQTAdvhM",
        "outputId": "04fbdd19-ca55-4d91-f878-cd5766d0cc77"
      },
      "execution_count": null,
      "outputs": [
        {
          "output_type": "display_data",
          "data": {
            "text/plain": [
              "<Figure size 1500x500 with 30 Axes>"
            ],
            "image/png": "[encoded data removed]"
          },
          "metadata": {}
        }
      ]
    }
  ]
}